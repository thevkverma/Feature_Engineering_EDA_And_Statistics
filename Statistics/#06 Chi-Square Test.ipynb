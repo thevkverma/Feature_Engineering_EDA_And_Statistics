{
 "cells": [
  {
   "cell_type": "code",
   "execution_count": 1,
   "id": "3cbc186d",
   "metadata": {},
   "outputs": [],
   "source": [
    "import scipy.stats as stat\n",
    "import numpy as np"
   ]
  },
  {
   "cell_type": "markdown",
   "id": "758101dd",
   "metadata": {},
   "source": [
    "#### No of hours student study in a weekly basis daily\n",
    "#### monday,tuesday,Wednesday,thursday,Friday,Saturday,sunday"
   ]
  },
  {
   "cell_type": "code",
   "execution_count": 3,
   "id": "f009f65f",
   "metadata": {},
   "outputs": [],
   "source": [
    "expected_data=[8,6,7,9,6,9,7]\n",
    "observed_data=[7,8,6,9,9,6,7]"
   ]
  },
  {
   "cell_type": "code",
   "execution_count": 4,
   "id": "bdf1b1c0",
   "metadata": {},
   "outputs": [
    {
     "data": {
      "text/plain": [
       "(52, 52)"
      ]
     },
     "execution_count": 4,
     "metadata": {},
     "output_type": "execute_result"
    }
   ],
   "source": [
    "sum(expected_data), sum(observed_data)"
   ]
  },
  {
   "cell_type": "code",
   "execution_count": 5,
   "id": "0371f1c7",
   "metadata": {},
   "outputs": [],
   "source": [
    "## Chi_Square Goodness of fit Test\n",
    "chisquare_test_statistic, p_value = stat.chisquare(observed_data, expected_data)"
   ]
  },
  {
   "cell_type": "code",
   "execution_count": 6,
   "id": "da0c93a2",
   "metadata": {},
   "outputs": [
    {
     "data": {
      "text/plain": [
       "(3.4345238095238093, 0.7526596580922865)"
      ]
     },
     "execution_count": 6,
     "metadata": {},
     "output_type": "execute_result"
    }
   ],
   "source": [
    "chisquare_test_statistic, p_value"
   ]
  },
  {
   "cell_type": "code",
   "execution_count": 7,
   "id": "c8c15247",
   "metadata": {},
   "outputs": [
    {
     "name": "stdout",
     "output_type": "stream",
     "text": [
      "6\n"
     ]
    }
   ],
   "source": [
    "#find the critical value\n",
    "significane_value = 0.5\n",
    "dof = len(expected_data)-1\n",
    "print(dof)\n",
    "critical_value = stat.chi2.ppf(1-significane_value,dof)"
   ]
  },
  {
   "cell_type": "code",
   "execution_count": 8,
   "id": "a55178e3",
   "metadata": {},
   "outputs": [
    {
     "data": {
      "text/plain": [
       "5.348120627447118"
      ]
     },
     "execution_count": 8,
     "metadata": {},
     "output_type": "execute_result"
    }
   ],
   "source": [
    "critical_value"
   ]
  },
  {
   "cell_type": "code",
   "execution_count": 9,
   "id": "99663bad",
   "metadata": {},
   "outputs": [
    {
     "name": "stdout",
     "output_type": "stream",
     "text": [
      "Accept the null hypothesis\n"
     ]
    }
   ],
   "source": [
    "if chisquare_test_statistic > critical_value:\n",
    "    print(\"Reject the null hypothesis\")\n",
    "else:\n",
    "    print(\"Accept the null hypothesis\")"
   ]
  },
  {
   "cell_type": "code",
   "execution_count": null,
   "id": "7d7db1f7",
   "metadata": {},
   "outputs": [],
   "source": []
  }
 ],
 "metadata": {
  "kernelspec": {
   "display_name": "Python 3 (ipykernel)",
   "language": "python",
   "name": "python3"
  },
  "language_info": {
   "codemirror_mode": {
    "name": "ipython",
    "version": 3
   },
   "file_extension": ".py",
   "mimetype": "text/x-python",
   "name": "python",
   "nbconvert_exporter": "python",
   "pygments_lexer": "ipython3",
   "version": "3.9.7"
  }
 },
 "nbformat": 4,
 "nbformat_minor": 5
}
